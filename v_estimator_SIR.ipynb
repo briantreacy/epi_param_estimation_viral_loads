{
 "cells": [
  {
   "cell_type": "code",
   "execution_count": 2,
   "id": "9d0ef87a",
   "metadata": {
    "code_folding": [
     14,
     18,
     25,
     48,
     54,
     71,
     88,
     92,
     96,
     139,
     152,
     179,
     183
    ],
    "scrolled": true
   },
   "outputs": [
    {
     "data": {
      "text/plain": [
       "(0.9999784522894409, 1.3404994891885735e-09)"
      ]
     },
     "execution_count": 2,
     "metadata": {},
     "output_type": "execute_result"
    }
   ],
   "source": [
    "import itertools\n",
    "import numpy as np\n",
    "import math\n",
    "import timeit\n",
    "from scipy.spatial.distance import hamming\n",
    "import matplotlib.pyplot as plt\n",
    "import os\n",
    "import pandas as pd\n",
    "from scipy.integrate import quad\n",
    "from scipy.optimize import newton\n",
    "import random\n",
    "\n",
    "class SIR_parameter_estimation_simulator:\n",
    "    \n",
    "    def beta(self, R0, t_I):\n",
    "        \n",
    "        return R0 / t_I\n",
    "    \n",
    "    def generate_true_ages_of_infection(self, N_v, R0, t_I):\n",
    "        \n",
    "        # Generates N_p ages-of-infection from an infected population that is in the exponential phase of the\n",
    "        # epidemic   \n",
    "        \n",
    "        return np.random.exponential(t_I / R0, N_v)\n",
    "    \n",
    "    def generate_viral_load(self, tau, tau_max, tau_half, v_0 = 1, v_max = 10**6):\n",
    "        \n",
    "        # Takes a person with age-of-infection tau who was infected during the exponential rise of an SIR \n",
    "        # epidemic and returns their viral load\n",
    "    \n",
    "        # age_of_infection_of_viral_max is the age-of-infection that someone achieves their max viral load v_max\n",
    "        # viral_half_life is the time after tau_max that it takes the viral load to decay to half of v_max\n",
    "        \n",
    "        alpha = (1 / tau_max) * math.log(v_max / v_0)\n",
    "        Phi = math.log(2) / (tau_half)\n",
    "        \n",
    "        if tau == tau_max:\n",
    "            \n",
    "            return [v_max]\n",
    "        \n",
    "        elif 0 <= tau <= tau_max:\n",
    "            \n",
    "            return v_0 * np.exp(alpha * tau)\n",
    "        \n",
    "        elif tau > tau_max:\n",
    "            \n",
    "            return v_max * np.exp(-Phi * (tau - tau_max))\n",
    "\n",
    "    def generate_set_viral_loads(self, R0, N_v, t_I, tau_max, tau_half, v_max = 10 ** 6):\n",
    "        \n",
    "        # Generates a set of randomly sampled viral loads for the parameters entered\n",
    "        \n",
    "        return [self.generate_viral_load(tau, tau_max, tau_half, 1, v_max) for tau in self.generate_true_ages_of_infection(N_v, R0, t_I)]\n",
    "        \n",
    "    def V(self, v, rho, tau_max, tau_half, v_max = 10 ** 6):\n",
    "        \n",
    "        alpha = np.log(v_max) / tau_max\n",
    "        Phi = np.log(2) / tau_half\n",
    "        \n",
    "        if 0 < v < 1:\n",
    "            \n",
    "            return rho / Phi * np.exp(-rho * tau_max) * v_max ** (-rho / Phi) * v ** (rho / Phi - 1)\n",
    "        \n",
    "        elif 1 <= v <= v_max:\n",
    "            \n",
    "            return rho / alpha * v ** (-rho / alpha - 1) + rho / Phi * np.exp(-rho * tau_max) * v_max ** (-rho / Phi) * v ** (rho / Phi - 1)\n",
    "        \n",
    "        else:\n",
    "            \n",
    "            return None\n",
    "\n",
    "    def d_V_d_rho(self, v, rho, tau_max, tau_half, v_max = 10 ** 6):\n",
    "        \n",
    "        alpha = np.log(v_max) / tau_max\n",
    "        Phi = np.log(2) / tau_half\n",
    "        \n",
    "        if 0 < v < 1:\n",
    "            \n",
    "            return 1 / Phi * np.exp(-rho * tau_max) * v_max ** (-rho / Phi) * v ** (rho / Phi - 1) * (1 - rho * (tau_max + 1 / Phi * np.log(v_max / v)))\n",
    "        \n",
    "        elif 1 <= v <= v_max:\n",
    "            \n",
    "            return 1 / alpha * v **(-rho / alpha - 1) * (1 - rho * np.log(v) / alpha) + 1 / Phi * np.exp(-rho * tau_max) * v_max ** (-rho / Phi) * v ** (rho / Phi - 1) * (1 - rho * (tau_max + 1 / Phi * np.log(v_max / v)))\n",
    "        \n",
    "        else:\n",
    "            \n",
    "            return None\n",
    "        \n",
    "    def d_log_likelihood_d_rho(self, rho, viral_loads, tau_max, tau_half, v_max = 10 ** 6):\n",
    "        \n",
    "        return sum([(1 / self.V(v, rho, tau_max, tau_half, v_max)) * self.d_V_d_rho(v, rho, tau_max, tau_half, v_max) for v in viral_loads])\n",
    "\n",
    "    def generate_rho_estimate(self, viral_loads, tau_max, tau_half, x0, v_max =  10 ** 6):\n",
    "        \n",
    "        return newton(self.d_log_likelihood_d_rho, x0 = x0, args = (viral_loads, tau_max, tau_half, v_max))\n",
    "    \n",
    "    def generate_visual_rho_estimate(self, viral_loads, tau_max, tau_half, v_max = 10 ** 6):\n",
    "        \n",
    "        N_v = len(viral_loads)\n",
    "        \n",
    "        rho_linspace = np.linspace(0.01, 10, 1000)\n",
    "        \n",
    "        likelihood_product_vals = []\n",
    "        log_likelihood_sum_vals = []\n",
    "        d_log_likelihood_sum_d_rho_vals = []\n",
    "        \n",
    "        rho_estimate = self.generate_rho_estimate(viral_loads, tau_max, tau_half, 0.2, v_max)\n",
    "        \n",
    "        for rho in rho_linspace:\n",
    "            \n",
    "            likelihood_product = 1\n",
    "            log_likelihood_sum = 0\n",
    "            d_log_likelihood_sum_d_rho = 0\n",
    "            \n",
    "            for v in viral_loads:\n",
    "            \n",
    "                likelihood_product *= self.V(v, rho, tau_max, tau_half, v_max)\n",
    "                log_likelihood_sum += np.log(self.V(v, rho, tau_max, tau_half, v_max))\n",
    "                d_log_likelihood_sum_d_rho += 1 / self.V(v, rho, tau_max, tau_half, v_max) * self.d_V_d_rho(v, rho ,tau_max, tau_half, v_max)\n",
    "                \n",
    "            likelihood_product_vals.append(likelihood_product)\n",
    "            log_likelihood_sum_vals.append(log_likelihood_sum) \n",
    "            d_log_likelihood_sum_d_rho_vals.append(d_log_likelihood_sum_d_rho)\n",
    "            \n",
    "        fig, axes = plt.subplots(2, 2, figsize = (8, 6))\n",
    "        \n",
    "        fig.suptitle(r'$\\hat{\\rho}$ = ' + str(round(rho_estimate, 1)))\n",
    "        \n",
    "        axes[0, 0].plot(rho_linspace, likelihood_product_vals)\n",
    "        axes[0, 0].set_title(\"Likelihood\")\n",
    "        \n",
    "        axes[0, 1].plot(rho_linspace, log_likelihood_sum_vals)\n",
    "        axes[0, 1].set_title(\"Log likelihood\")\n",
    "        \n",
    "        axes[1, 0].plot(rho_linspace, d_log_likelihood_sum_d_rho_vals)\n",
    "        axes[1, 0].set_title(r\"$\\frac{d}{d \\rho}$ log likelihood\")\n",
    "        \n",
    "        plt.tight_layout()\n",
    "  \n",
    "    def generate_data_rho_estimates(self, N_v, num_iterations, R0, t_I, tau_max, tau_half, v_max = 10 ** 6, x0 = 0.2):\n",
    "        \n",
    "        data_set = []\n",
    "        \n",
    "        for i in range(num_iterations):\n",
    "            \n",
    "            viral_loads = [SIR.generate_viral_load(tau, tau_max, tau_half) for tau in SIR.generate_true_ages_of_infection(N_v, R0, t_I)]\n",
    "            \n",
    "            rho_estimate = newton(self.d_log_likelihood_d_rho, x0, args=(viral_loads, tau_max, tau_half, v_max))\n",
    "            data_set.append(rho_estimate)\n",
    "        \n",
    "        return data_set\n",
    "            \n",
    "    def generate_box_plots_by_N_v_values(self, N_v_vals, num_iterations, R0, t_I, tau_max, tau_half, x0 = 0.2, savefig_filename = False, v_max = 10 **6):\n",
    "        \n",
    "        rho_estimate_data_by_N_v = []\n",
    "        \n",
    "        for N_v in N_v_vals:\n",
    "            \n",
    "            rho_estimate_data = []\n",
    "            \n",
    "            for i in range(num_iterations):\n",
    "                \n",
    "                viral_loads = self.generate_set_viral_loads(R0, N_v, t_I, tau_max, tau_half, v_max)\n",
    "                \n",
    "                rho_estimate_data.append(self.generate_rho_estimate(viral_loads, tau_max, tau_half, x0, v_max))\n",
    "                \n",
    "            rho_estimate_data_by_N_v.append(rho_estimate_data)\n",
    "            \n",
    "        fig, ax = plt.subplots()\n",
    "        \n",
    "        ax.boxplot(rho_estimate_data_by_N_v)\n",
    "\n",
    "        ax.set_xticklabels( [str(N_v_val) for N_v_val in N_v_vals])\n",
    "        ax.set_xlabel(r'$N_v$')\n",
    "        \n",
    "        ax.axhline(y = R0/t_I)\n",
    "        \n",
    "        ax.set_ylabel(r'$\\hat{\\rho}$', rotation = 0)\n",
    "        \n",
    "        if savefig_filename != False:\n",
    "            \n",
    "            fig.savefig('images/' + savefig_filename, dpi = 200)\n",
    "      \n",
    "    def run_checks(self):\n",
    "        \n",
    "        R0 = np.random.uniform(1.1, 5)\n",
    "        t_I = np.random.uniform(1, 10)\n",
    "        rho = R0 / t_I\n",
    "        \n",
    "        tau_max = np.random.uniform(1, 5)\n",
    "        tau_half = np.random.uniform(1, 5)\n",
    "        \n",
    "        return quad(self.V, 0.2, 10 ** 6, args = (rho, tau_max, tau_half))\n",
    "        \n",
    "SIR = SIR_parameter_estimation_simulator()\n",
    "SIR.run_checks()"
   ]
  },
  {
   "cell_type": "code",
   "execution_count": 5,
   "id": "167ac103",
   "metadata": {},
   "outputs": [
    {
     "data": {
      "image/png": "[encoded data removed]",
      "text/plain": [
       "<Figure size 432x288 with 1 Axes>"
      ]
     },
     "metadata": {
      "needs_background": "light"
     },
     "output_type": "display_data"
    }
   ],
   "source": [
    "# Generate boxplots of the estimates of rho by N_v values\n",
    "\n",
    "N_v_vals = [10, 20, 40, 80, 500]\n",
    "num_iterations = 100\n",
    "\n",
    "R0 = 3\n",
    "t_I = 2\n",
    "tau_max = 2\n",
    "tau_half = 3\n",
    "x0 = 0.5\n",
    "v_max = 10 ** 6\n",
    "savefig_filename = False\n",
    "#savefig_filename = 'boxplot_rho_estimates.png'\n",
    "\n",
    "SIR.generate_box_plots_by_N_v_values(N_v_vals, num_iterations, R0, t_I, tau_max, tau_half, x0, savefig_filename, v_max)\n"
   ]
  },
  {
   "cell_type": "code",
   "execution_count": 4,
   "id": "4adbfa53",
   "metadata": {},
   "outputs": [
    {
     "name": "stdout",
     "output_type": "stream",
     "text": [
      "rho = 0.75\n"
     ]
    },
    {
     "data": {
      "image/png": "[encoded data removed]",
      "text/plain": [
       "<Figure size 576x432 with 4 Axes>"
      ]
     },
     "metadata": {
      "needs_background": "light"
     },
     "output_type": "display_data"
    }
   ],
   "source": [
    "# Plot our likelihood, log likelihhod and derivative of our log likelihood functions\n",
    "\n",
    "N_v = 20\n",
    "\n",
    "R0 = 3#random.uniform(1.1, 5)\n",
    "t_I = 4#random.uniform(0.5, 5)\n",
    "tau_max = 2\n",
    "tau_half = 3\n",
    "\n",
    "viral_loads = [SIR.generate_viral_load(tau, tau_max, tau_half) for tau in SIR.generate_true_ages_of_infection(N_v, R0, t_I)]\n",
    "\n",
    "\n",
    "SIR.generate_visual_rho_estimate(viral_loads, tau_max, tau_half)\n",
    "print(\"rho = \" + str(R0 / t_I))"
   ]
  },
  {
   "cell_type": "code",
   "execution_count": 25,
   "id": "77563b6f",
   "metadata": {},
   "outputs": [
    {
     "name": "stdout",
     "output_type": "stream",
     "text": [
      "True rho = 3.0\n"
     ]
    },
    {
     "data": {
      "text/plain": [
       "3.0738035741148293"
      ]
     },
     "execution_count": 25,
     "metadata": {},
     "output_type": "execute_result"
    }
   ],
   "source": [
    "# Generate data set of rho estimates for given parameters\n",
    "\n",
    "N_v = 50\n",
    "num_iterations = 10\n",
    "\n",
    "R0 = 3\n",
    "t_I = 1\n",
    "rho = R0 / t_I\n",
    "\n",
    "tau_max = 2\n",
    "tau_half = 3\n",
    "\n",
    "print(\"True rho = \" + str(rho))\n",
    "sum(SIR.generate_data_rho_estimates(N_v, num_iterations, R0, t_I, tau_max, tau_half))/num_iterations"
   ]
  },
  {
   "cell_type": "code",
   "execution_count": 12,
   "id": "c1448df0",
   "metadata": {},
   "outputs": [
    {
     "data": {
      "image/png": "[encoded data removed]",
      "text/plain": [
       "<Figure size 432x288 with 1 Axes>"
      ]
     },
     "metadata": {
      "needs_background": "light"
     },
     "output_type": "display_data"
    }
   ],
   "source": [
    "# Plot our viral distribution\n",
    "\n",
    "#R0 = 3\n",
    "R0 = random.uniform(1.1, 5)\n",
    "#t_I = 2\n",
    "t_I = random.uniform(.5, 5)\n",
    "\n",
    "rho = R0 / t_I\n",
    "tau_max = 2\n",
    "tau_half = 3\n",
    "v_max = 10**6\n",
    "\n",
    "v_linspace = np.linspace(0, v_max, 1000)\n",
    "\n",
    "fig, ax = plt.subplots()\n",
    "\n",
    "ax.plot(v_linspace, [SIR.V(v, rho, tau_max, tau_half, v_max = v_max) for v in v_linspace])\n",
    "ax.set_xlabel(\"v\")\n",
    "ax.set_xticks([0, v_max])\n",
    "ax.set_xticklabels([0, r'$\\nu^+$'])\n",
    "ax.set_ylabel(r'$\\mathcal{V}$', rotation = 0)\n",
    "\n",
    "fig.savefig(\"V_distribution_plot.png\", dpi = 400)"
   ]
  }
 ],
 "metadata": {
  "kernelspec": {
   "display_name": "Python 3",
   "language": "python",
   "name": "python3"
  },
  "language_info": {
   "codemirror_mode": {
    "name": "ipython",
    "version": 3
   },
   "file_extension": ".py",
   "mimetype": "text/x-python",
   "name": "python",
   "nbconvert_exporter": "python",
   "pygments_lexer": "ipython3",
   "version": "3.8.8"
  }
 },
 "nbformat": 4,
 "nbformat_minor": 5
}
